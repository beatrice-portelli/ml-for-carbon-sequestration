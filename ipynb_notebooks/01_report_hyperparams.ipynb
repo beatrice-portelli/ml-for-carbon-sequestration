{
 "cells": [
  {
   "cell_type": "code",
   "execution_count": 1,
   "id": "d6e9b891-00c7-4489-a58b-d990bb045314",
   "metadata": {},
   "outputs": [],
   "source": [
    "import pandas as pd\n",
    "from glob import glob\n",
    "from experiments_to_run import *"
   ]
  },
  {
   "cell_type": "code",
   "execution_count": 2,
   "id": "10b51d3f-f4a6-43af-97d9-1186a00b3837",
   "metadata": {},
   "outputs": [],
   "source": [
    "paths = glob(\"../results/metrics*\")\n",
    "\n",
    "df = []\n",
    "for path in paths:\n",
    "    tmp_df = pd.read_pickle(path)\n",
    "    df.append(tmp_df)\n",
    "df = pd.concat(df)\n",
    "df = df[df.model != \"▸ Ensemble\"]"
   ]
  },
  {
   "cell_type": "code",
   "execution_count": 3,
   "id": "e468bcd9-f603-4aa7-87d2-6663110f290a",
   "metadata": {},
   "outputs": [
    {
     "name": "stdout",
     "output_type": "stream",
     "text": [
      "     CS\n",
      "results exported to ../results/hyperparams_CS.[txt/xlsx]\n",
      "results exported to ../figures_and_tables/table_appendix_hyperparameters_CS.[txt/xlsx/csv]\n",
      "     CSE\n",
      "results exported to ../results/hyperparams_CSE.[txt/xlsx]\n",
      "results exported to ../figures_and_tables/table_appendix_hyperparameters_CSE.[txt/xlsx/csv]\n"
     ]
    }
   ],
   "source": [
    "for target_var in TARGETS:\n",
    "    \n",
    "    tmp = df[(df.target == target_var)]\\\n",
    "      [[\"target\", \"config\", \"model\", \"hyperparams\"]]\\\n",
    "      .groupby([\"config\", \"model\"]).agg({\n",
    "        \"hyperparams\":\"first\",\n",
    "      }).reset_index()\n",
    "\n",
    "    tmp.hyperparams = tmp.hyperparams.apply(\n",
    "        lambda x: \"\\n\".join([f\"{k}: {v}\" for k,v in x.items()]) if x is not None else \"\"\n",
    "    )\n",
    "    \n",
    "    gb = tmp.groupby(\"model\")\n",
    "    new_tmp = []\n",
    "    for m,g in gb:\n",
    "        new_tmp.append(g.drop(columns=[\"model\"]).rename(columns={\"hyperparams\":m}).set_index(\"config\").T)\n",
    "    \n",
    "    tmp = pd.concat(new_tmp).reset_index().rename(columns={\"index\":\"Model\"})\n",
    "    \n",
    "    \n",
    "    tmp.Conf1 = tmp.Conf1.str.split(\"\\n\")\n",
    "    tmp.Conf2 = tmp.Conf2.str.split(\"\\n\")\n",
    "    tmp.Conf3 = tmp.Conf3.str.split(\"\\n\")\n",
    "    tmp.Conf4 = tmp.Conf4.str.split(\"\\n\")\n",
    "    tmp = tmp.explode([\"Conf1\", \"Conf2\", \"Conf3\", \"Conf4\"])\n",
    "    tmp[\"hyperparameter\"] = tmp.Conf1.str.split(\":\").str[0]\n",
    "    tmp.Conf1 = tmp.Conf1.str.split(\" \").str[-1]\n",
    "    tmp.Conf2 = tmp.Conf2.str.split(\" \").str[-1]\n",
    "    tmp.Conf3 = tmp.Conf3.str.split(\" \").str[-1]\n",
    "    tmp.Conf4 = tmp.Conf4.str.split(\" \").str[-1]\n",
    "    tmp = tmp[[\"Model\", \"hyperparameter\", \"Conf1\", \"Conf2\", \"Conf3\", \"Conf4\"]]\n",
    "    \n",
    "    \n",
    "    print(\"     \"+target_var)\n",
    "    print(\"results exported to\", f\"../results/hyperparams_{target_var}.[txt/xlsx]\")\n",
    "    tmp.to_markdown(f\"../results/hyperparams_{target_var}.txt\", index=False, tablefmt=\"fancy_grid\")\n",
    "    tmp.to_excel(f\"../results/hyperparams_{target_var}.xlsx\", index=False)\n",
    "    \n",
    "    print(\"results exported to\", f\"../figures_and_tables/table_appendix_hyperparameters_{target_var}.[txt/xlsx/csv]\")\n",
    "    tmp.to_markdown(f\"../figures_and_tables/table_appendix_hyperparameters_{target_var}.txt\", index=False, tablefmt=\"fancy_grid\")\n",
    "    tmp.to_excel(f\"../figures_and_tables/table_appendix_hyperparameters_{target_var}.xlsx\", index=False)\n",
    "    tmp.to_csv(f\"../figures_and_tables/table_appendix_hyperparameters_{target_var}.csv\", index=False)\n"
   ]
  },
  {
   "cell_type": "code",
   "execution_count": null,
   "id": "9916965f-710b-4ae1-80ab-8f90b39f8312",
   "metadata": {},
   "outputs": [],
   "source": []
  }
 ],
 "metadata": {
  "kernelspec": {
   "display_name": "bp_base",
   "language": "python",
   "name": "bp_base"
  },
  "language_info": {
   "codemirror_mode": {
    "name": "ipython",
    "version": 3
   },
   "file_extension": ".py",
   "mimetype": "text/x-python",
   "name": "python",
   "nbconvert_exporter": "python",
   "pygments_lexer": "ipython3",
   "version": "3.8.13"
  }
 },
 "nbformat": 4,
 "nbformat_minor": 5
}
