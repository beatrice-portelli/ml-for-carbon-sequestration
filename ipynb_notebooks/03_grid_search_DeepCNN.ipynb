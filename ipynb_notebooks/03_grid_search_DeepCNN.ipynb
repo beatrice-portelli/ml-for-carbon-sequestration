{
 "cells": [
  {
   "cell_type": "code",
   "execution_count": null,
   "id": "279a41a6-d80a-431f-9427-17bf4a15a212",
   "metadata": {
    "tags": []
   },
   "outputs": [],
   "source": [
    "from configs import *\n",
    "from torchvision import models\n",
    "from dl_experiment import launch_experiment\n",
    "\n",
    "# fixed\n",
    "\n",
    "PATCH_DIM = 32\n",
    "DEVICE = \"cuda\"\n",
    "EPOCHS = 50\n",
    "\n",
    "# varying\n",
    "\n",
    "TARGETs = [\n",
    "    TARGET_CARBON_STORAGE,\n",
    "    TARGET_CARBON_SEQUESTRATION,\n",
    "]\n",
    "\n",
    "CONFIGs = [\n",
    "    DL_CONFIG_sat,\n",
    "    DL_CONFIG_sat_clim,\n",
    "    DL_CONFIG_sat_chm,\n",
    "    DL_CONFIG_sat_clim_chm,\n",
    "]\n",
    "BATCH_SIZEs = [16,8,4]\n",
    "LRs = [1e-2, 1e-3, 1e-4]\n",
    "FREEZEs = [True, False]\n",
    "MODEL_CLASSs = [\n",
    "    models.vgg16,\n",
    "    # models.vgg11,\n",
    "    # models.resnet18,\n",
    "    # models.resnet50,\n",
    "    # models.efficientnet_v2_s,\n",
    "    # models.mobilenet_v3_small,\n",
    "]\n",
    "PRETRAINED_WEIGHTSs = [\"DEFAULT\", None]\n",
    "\n",
    "total_experiments = len(CONFIGs)*len(BATCH_SIZEs)*len(LRs)*len(FREEZEs)*len(MODEL_CLASSs)*len(PRETRAINED_WEIGHTSs)*len(TARGETs)\n",
    "cnt = 0\n",
    "\n",
    "for TARGET in TARGETs:\n",
    "    for BATCH_SIZE in BATCH_SIZEs:\n",
    "        for LR in LRs:\n",
    "            for MODEL_CLASS in MODEL_CLASSs:\n",
    "                for FREEZE in FREEZEs:\n",
    "                    for PRETRAINED_WEIGHTS in PRETRAINED_WEIGHTSs:\n",
    "                        for CONFIG in CONFIGs:\n",
    "                            cnt+=1\n",
    "                            print(\"=\"*20)\n",
    "                            print(cnt, \"/\", total_experiments)\n",
    "                            launch_experiment(\n",
    "                                PATCH_DIM,\n",
    "                                TARGET,\n",
    "                                CONFIG,\n",
    "                                BATCH_SIZE,\n",
    "                                EPOCHS,\n",
    "                                LR,\n",
    "                                DEVICE,\n",
    "                                FREEZE,\n",
    "                                MODEL_CLASS,\n",
    "                                PRETRAINED_WEIGHTS,\n",
    "                            )\n"
   ]
  }
 ],
 "metadata": {
  "kernelspec": {
   "display_name": "bp_base",
   "language": "python",
   "name": "bp_base"
  },
  "language_info": {
   "codemirror_mode": {
    "name": "ipython",
    "version": 3
   },
   "file_extension": ".py",
   "mimetype": "text/x-python",
   "name": "python",
   "nbconvert_exporter": "python",
   "pygments_lexer": "ipython3",
   "version": "3.8.13"
  }
 },
 "nbformat": 4,
 "nbformat_minor": 5
}
